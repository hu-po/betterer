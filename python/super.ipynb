{
 "cells": [
  {
   "cell_type": "markdown",
   "metadata": {},
   "source": [
    "# Python's super()\n",
    "\n",
    "https://www.youtube.com/watch?v=X1PQ7zzltz4"
   ]
  },
  {
   "cell_type": "code",
   "execution_count": 1,
   "metadata": {},
   "outputs": [
    {
     "name": "stdout",
     "output_type": "stream",
     "text": [
      "Derived.f <__main__.Derived object at 0x7fc8c008db50> foo\n",
      "Base.f <__main__.Derived object at 0x7fc8c008db50> foo\n",
      "Derived.f done.\n"
     ]
    }
   ],
   "source": [
    "class Base:\n",
    "    def f(self, x):\n",
    "        print(f'Base.f {self} {x}')\n",
    "\n",
    "class Derived(Base):\n",
    "    def f(self, x):\n",
    "        print(f'Derived.f {self} {x}')\n",
    "        super().f(x)\n",
    "        print(f'Derived.f done.')\n",
    "\n",
    "d = Derived()\n",
    "d.f('foo')"
   ]
  },
  {
   "cell_type": "code",
   "execution_count": 2,
   "metadata": {},
   "outputs": [
    {
     "name": "stdout",
     "output_type": "stream",
     "text": [
      "In C\n",
      "In A\n"
     ]
    }
   ],
   "source": [
    "# Super goes up the chain as far as is needed\n",
    "\n",
    "class A:\n",
    "    def f(self):\n",
    "        print(f'In A')\n",
    "\n",
    "class B(A):\n",
    "    pass\n",
    "\n",
    "class C(B):\n",
    "    def f(self):\n",
    "        print(f'In C')\n",
    "        super().f()\n",
    "\n",
    "c = C()\n",
    "c.f()"
   ]
  },
  {
   "cell_type": "code",
   "execution_count": 6,
   "metadata": {},
   "outputs": [
    {
     "data": {
      "text/plain": [
       "'b'"
      ]
     },
     "execution_count": 6,
     "metadata": {},
     "output_type": "execute_result"
    }
   ],
   "source": [
    "# MRO (method resolution order) also applies to properties\n",
    "\n",
    "class Root:\n",
    "    f = 'root'\n",
    "\n",
    "class A(Root):\n",
    "    f = 'a'\n",
    "\n",
    "class B(Root):\n",
    "    f = 'b'\n",
    "\n",
    "class C(B, A):\n",
    "    pass\n",
    "\n",
    "c = C()\n",
    "c.f"
   ]
  },
  {
   "cell_type": "code",
   "execution_count": 8,
   "metadata": {},
   "outputs": [
    {
     "data": {
      "text/plain": [
       "(__main__.C, __main__.B, __main__.A, __main__.Root, object)"
      ]
     },
     "execution_count": 8,
     "metadata": {},
     "output_type": "execute_result"
    }
   ],
   "source": [
    "# super() is the \"next in line\" according to MRO\n",
    "C.__mro__"
   ]
  },
  {
   "cell_type": "code",
   "execution_count": 12,
   "metadata": {},
   "outputs": [
    {
     "data": {
      "text/plain": [
       "1"
      ]
     },
     "execution_count": 12,
     "metadata": {},
     "output_type": "execute_result"
    }
   ],
   "source": [
    "# Keyword argument peeling\n",
    "\n",
    "class Root:\n",
    "    def __init__(self, a=4, b=5):\n",
    "        self.a = a\n",
    "        self.b = b\n",
    "\n",
    "class Base(Root):\n",
    "    def __init__(self, *args, c=6, **kwargs):\n",
    "        self.c = c\n",
    "        super().__init__(*args, **kwargs)\n",
    "\n",
    "foo = Base(a=1, b=2, c=3)\n",
    "foo.a"
   ]
  },
  {
   "cell_type": "code",
   "execution_count": null,
   "metadata": {},
   "outputs": [],
   "source": []
  }
 ],
 "metadata": {
  "interpreter": {
   "hash": "31f2aee4e71d21fbe5cf8b01ff0e069b9275f58929596ceb00d14d90e3e16cd6"
  },
  "kernelspec": {
   "display_name": "Python 3.8.10 64-bit",
   "language": "python",
   "name": "python3"
  },
  "language_info": {
   "codemirror_mode": {
    "name": "ipython",
    "version": 3
   },
   "file_extension": ".py",
   "mimetype": "text/x-python",
   "name": "python",
   "nbconvert_exporter": "python",
   "pygments_lexer": "ipython3",
   "version": "3.8.10"
  },
  "orig_nbformat": 4
 },
 "nbformat": 4,
 "nbformat_minor": 2
}
