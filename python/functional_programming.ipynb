{
 "cells": [
  {
   "cell_type": "markdown",
   "metadata": {},
   "source": [
    "# Functional Programming In Python\n",
    "\n",
    "https://machinelearningmastery.com/functional-programming-in-python/"
   ]
  },
  {
   "cell_type": "code",
   "execution_count": null,
   "metadata": {},
   "outputs": [],
   "source": [
    "import urllib.request\n",
    "import re\n",
    "from typing import Tuple\n",
    "\n",
    "url = ''\n",
    "logfile = urllib.request.urlopen(url).read().decode('utf8')\n",
    "\n",
    "def regex_match(line: str) -> Tuple[int, str]:\n",
    "    m = re.match(r'(\\d\\.) .* (\\d+)', line)\n",
    "    return (m.group(1), m.group(2))\n",
    "\n",
    "print(logfile)\n",
    "\n",
    "for i, line in enumerate(logfile.splitlines()):\n",
    "    regex_match(line)\n"
   ]
  },
  {
   "cell_type": "code",
   "execution_count": null,
   "metadata": {},
   "outputs": [],
   "source": [
    "import itertools\n",
    "import operator\n",
    "\n",
    "# Infinite counting loop\n",
    "for i in itertools.count(0, 1):\n",
    "    print(i)\n",
    "    if i > 5:\n",
    "        break"
   ]
  },
  {
   "cell_type": "code",
   "execution_count": null,
   "metadata": {},
   "outputs": [],
   "source": [
    "# Infinite cycle loop\n",
    "count = 0\n",
    "for i in itertools.cycle([1, 2, 3]):\n",
    "    print(i)\n",
    "    count += 1\n",
    "    if count > 20:\n",
    "        break"
   ]
  },
  {
   "cell_type": "code",
   "execution_count": null,
   "metadata": {},
   "outputs": [],
   "source": [
    "import functools\n",
    "power_2 = functools.partial(lambda x, p: x ** p, p=2)\n",
    "power_2(4)"
   ]
  },
  {
   "cell_type": "code",
   "execution_count": null,
   "metadata": {},
   "outputs": [],
   "source": [
    "from typing import List\n",
    "from functools import reduce\n",
    "\n",
    "foo: List[int] = list(range(100))\n",
    "div_3: List[bool] = map(lambda x: int(x % 3 == 0), foo)\n",
    "total_div_3 = reduce(operator.add, div_3)\n",
    "print(total_div_3)"
   ]
  }
 ],
 "metadata": {
  "interpreter": {
   "hash": "31f2aee4e71d21fbe5cf8b01ff0e069b9275f58929596ceb00d14d90e3e16cd6"
  },
  "kernelspec": {
   "display_name": "Python 3.8.10 64-bit",
   "language": "python",
   "name": "python3"
  },
  "language_info": {
   "codemirror_mode": {
    "name": "ipython",
    "version": 3
   },
   "file_extension": ".py",
   "mimetype": "text/x-python",
   "name": "python",
   "nbconvert_exporter": "python",
   "pygments_lexer": "ipython3",
   "version": "3.8.10"
  },
  "orig_nbformat": 4
 },
 "nbformat": 4,
 "nbformat_minor": 2
}
