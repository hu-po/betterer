{
 "cells": [
  {
   "cell_type": "markdown",
   "metadata": {},
   "source": [
    "Stateful Computations in JAX\n",
    "https://jax.readthedocs.io/en/latest/jax-101/07-state.html"
   ]
  },
  {
   "cell_type": "code",
   "execution_count": null,
   "metadata": {},
   "outputs": [],
   "source": [
    "import jax\n",
    "import jax.numpy as jnp"
   ]
  },
  {
   "cell_type": "code",
   "execution_count": null,
   "metadata": {},
   "outputs": [],
   "source": [
    "class Counter:\n",
    "    def __init__(self):\n",
    "        self.n : int = 0\n",
    "\n",
    "    def count(self) -> int:\n",
    "        self.n += 1\n",
    "        return self.n\n",
    "    \n",
    "    def reset(self) -> None:\n",
    "        self.n = 0\n",
    "\n",
    "counter = Counter()\n",
    "for _ in range(4):\n",
    "    print(f'{counter.count()}')\n"
   ]
  },
  {
   "cell_type": "code",
   "execution_count": null,
   "metadata": {},
   "outputs": [],
   "source": [
    "counter = Counter()\n",
    "compiled_count = jax.jit(counter.count)\n",
    "\n",
    "for _ in range(4):\n",
    "    print(f'{compiled_count()}')"
   ]
  },
  {
   "cell_type": "code",
   "execution_count": null,
   "metadata": {},
   "outputs": [],
   "source": [
    "from typing import Tuple\n",
    "\n",
    "# Create Counter object with explicit state\n",
    "CounterState = int\n",
    "\n",
    "class CounterWithState:\n",
    "\n",
    "    def count(self, n: CounterState) -> Tuple[int, CounterState]:\n",
    "        return n+1, n+1\n",
    "    \n",
    "    def reset(self) -> CounterState:\n",
    "        return 0\n",
    "\n",
    "counter_with_state = CounterWithState()\n",
    "compiled_count = jax.jit(counter_with_state.count)\n",
    "\n",
    "state = counter_with_state.reset()\n",
    "\n",
    "for _ in range(4):\n",
    "    value, state = compiled_count(state)\n",
    "    print(f'{value}')"
   ]
  },
  {
   "cell_type": "code",
   "execution_count": null,
   "metadata": {},
   "outputs": [],
   "source": [
    "from typing import NamedTuple\n",
    "\n",
    "class Params(NamedTuple):\n",
    "    W: jnp.ndarray\n",
    "    b: jnp.ndarray\n",
    "    \n",
    "def init(rng) -> Params:\n",
    "    W_key, b_key = jax.random.split(rng)\n",
    "    W = jax.random.normal(W_key, ())\n",
    "    b = jax.random.normal(b_key, ())\n",
    "    return Params(W, b)\n",
    "\n",
    "def forward(params: Params, x: jnp.array) -> jnp.array:\n",
    "    return jnp.dot(x, params.W) + params.b\n",
    "\n",
    "def loss(params: Params, x: jnp.array, y:jnp.array) -> jnp.array:\n",
    "    return jnp.mean((forward(params, x) - y)**2)\n",
    "\n",
    "@jax.jit\n",
    "def update(params: Params, x: jnp.array, y: jnp.array, lr:float=5e-3) -> Params:\n",
    "    return jax.tree_multimap(\n",
    "        lambda p, g: p - lr*g,\n",
    "        params, jax.grad(loss)(params, x, y)\n",
    "    )"
   ]
  },
  {
   "cell_type": "code",
   "execution_count": null,
   "metadata": {},
   "outputs": [],
   "source": [
    "import matplotlib.pyplot as plt\n",
    "\n",
    "rng = jax.random.PRNGKey(42)\n",
    "x_key, noise_key = jax.random.split(rng)\n",
    "\n",
    "Ws = 2\n",
    "bs = -1\n",
    "xs = jax.random.normal(x_key, (128, 1))\n",
    "noise = 0.1*jax.random.normal(noise_key, (128, 1))\n",
    "ys = Ws*xs + bs + noise\n",
    "\n",
    "params = init(rng)\n",
    "for _ in range(1000):\n",
    "    params = update(params, xs, ys)\n",
    "\n",
    "plt.scatter(xs, ys, label='dataset')\n",
    "plt.scatter(xs, forward(params, xs), label='model')\n",
    "plt.legend()"
   ]
  },
  {
   "cell_type": "code",
   "execution_count": null,
   "metadata": {},
   "outputs": [],
   "source": []
  }
 ],
 "metadata": {
  "interpreter": {
   "hash": "31f2aee4e71d21fbe5cf8b01ff0e069b9275f58929596ceb00d14d90e3e16cd6"
  },
  "kernelspec": {
   "display_name": "Python 3.8.10 64-bit",
   "language": "python",
   "name": "python3"
  },
  "language_info": {
   "codemirror_mode": {
    "name": "ipython",
    "version": 3
   },
   "file_extension": ".py",
   "mimetype": "text/x-python",
   "name": "python",
   "nbconvert_exporter": "python",
   "pygments_lexer": "ipython3",
   "version": "3.8.10"
  },
  "orig_nbformat": 4
 },
 "nbformat": 4,
 "nbformat_minor": 2
}
