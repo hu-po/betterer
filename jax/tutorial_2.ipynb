{
 "cells": [
  {
   "cell_type": "markdown",
   "metadata": {},
   "source": [
    "Just In Time Compilation with JAX\n",
    "\n",
    "https://jax.readthedocs.io/en/latest/jax-101/02-jitting.html"
   ]
  },
  {
   "cell_type": "code",
   "execution_count": null,
   "metadata": {},
   "outputs": [],
   "source": [
    "import jax\n",
    "import jax.numpy as jnp"
   ]
  },
  {
   "cell_type": "code",
   "execution_count": null,
   "metadata": {},
   "outputs": [],
   "source": [
    "global_scope = []\n",
    "\n",
    "def some_unpure_func(x):\n",
    "    \"\"\" Functionally not pure function. \"\"\"\n",
    "    global_scope.append(x) # JAX does not know about this global scope variable\n",
    "    print(f'inside unpure {x}') # Printing is also unpure\n",
    "    return jnp.log(x) / jnp.log(2)\n",
    "\n",
    "jax.make_jaxpr(some_unpure_func)(1)\n"
   ]
  },
  {
   "cell_type": "code",
   "execution_count": null,
   "metadata": {},
   "outputs": [],
   "source": [
    "def some_pure_func(x):\n",
    "    \"\"\" Functionally pure function. \"\"\"\n",
    "    return jnp.log(x) / jnp.log(2)\n",
    "\n",
    "jax.make_jaxpr(some_pure_func)(1)"
   ]
  },
  {
   "cell_type": "code",
   "execution_count": null,
   "metadata": {},
   "outputs": [],
   "source": [
    "# JIT can get confused with conditionals\n",
    "\n",
    "def conditional_func(x):\n",
    "    return jnp.log(x) / jnp.log(2) if x.ndim >= 2 else 0\n",
    "\n",
    "print(f'{jax.make_jaxpr(conditional_func)(jnp.asarray([1]))}')\n",
    "print(f'{jax.make_jaxpr(conditional_func)(jnp.asarray([[1]]))}')\n"
   ]
  },
  {
   "cell_type": "code",
   "execution_count": null,
   "metadata": {},
   "outputs": [],
   "source": [
    "import matplotlib.pyplot as plt\n",
    "\n",
    "def selu(x, alpha=1.67, lambda_=1.05):\n",
    "    \"\"\" Scaled exponential linear unit\"\"\"\n",
    "    return lambda_ * jnp.where(x > 0, x, alpha * jnp.exp(x) - alpha)\n",
    "\n",
    "x = 0.01*jnp.arange(-100, 100)\n",
    "plt.plot(x, selu(x))\n",
    "\n",
    "jax.make_jaxpr(selu)(x)"
   ]
  },
  {
   "cell_type": "code",
   "execution_count": null,
   "metadata": {},
   "outputs": [],
   "source": [
    "%timeit selu(x).block_until_ready()"
   ]
  },
  {
   "cell_type": "code",
   "execution_count": null,
   "metadata": {},
   "outputs": [],
   "source": [
    "# Create a JIT hardware-ready version\n",
    "selu_jit = jax.jit(selu)\n",
    "\n",
    "\n",
    "# One \"warm-up\" call to create the compiled code\n",
    "selu_jit(x).block_until_ready()\n",
    "\n",
    "%timeit selu_jit(x).block_until_ready()"
   ]
  },
  {
   "cell_type": "code",
   "execution_count": null,
   "metadata": {},
   "outputs": [],
   "source": [
    "# JIT doesn't work when conditioned on value of function\n",
    "def another_unpure_func(x):\n",
    "    if x > 1:\n",
    "        return x\n",
    "    else:\n",
    "        return x*x\n",
    "\n",
    "jax.jit(another_unpure_func)(1.0)\n",
    "\n",
    "# It does work when not conditioned on value, but it is misleading\n",
    "jax.jit(conditional_func)(1.0)"
   ]
  },
  {
   "cell_type": "code",
   "execution_count": null,
   "metadata": {},
   "outputs": [],
   "source": [
    "# Seperate out the JIT-able parts of a function\n",
    "\n",
    "@jax.jit\n",
    "def jittable_segment(x):\n",
    "    return x + 1\n",
    "\n",
    "def un_jittable_func(x, n):\n",
    "    i = 0\n",
    "    while i < n:\n",
    "        i = jittable_segment(i)\n",
    "    return x + i\n",
    "\n",
    "%timeit un_jittable_func(10, 20)"
   ]
  },
  {
   "cell_type": "code",
   "execution_count": null,
   "metadata": {},
   "outputs": [],
   "source": [
    "def jittable_segment_2(x):\n",
    "    return x + 1\n",
    "\n",
    "def un_jittable_func_2(x, n):\n",
    "    i = 0\n",
    "    while i < n:\n",
    "        i = jittable_segment_2(i)\n",
    "    return x + i\n",
    "\n",
    "%timeit un_jittable_func_2(10, 20)"
   ]
  },
  {
   "cell_type": "markdown",
   "metadata": {},
   "source": [
    "Generally, you want to jit the largest possible chunk of your computation"
   ]
  },
  {
   "cell_type": "markdown",
   "metadata": {},
   "source": []
  }
 ],
 "metadata": {
  "interpreter": {
   "hash": "31f2aee4e71d21fbe5cf8b01ff0e069b9275f58929596ceb00d14d90e3e16cd6"
  },
  "kernelspec": {
   "display_name": "Python 3.8.10 64-bit",
   "language": "python",
   "name": "python3"
  },
  "language_info": {
   "codemirror_mode": {
    "name": "ipython",
    "version": 3
   },
   "file_extension": ".py",
   "mimetype": "text/x-python",
   "name": "python",
   "nbconvert_exporter": "python",
   "pygments_lexer": "ipython3",
   "version": "3.8.10"
  },
  "orig_nbformat": 4
 },
 "nbformat": 4,
 "nbformat_minor": 2
}
