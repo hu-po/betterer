{
 "cells": [
  {
   "cell_type": "markdown",
   "metadata": {},
   "source": [
    "Pseudo Random Numbers in JAX\n",
    "https://jax.readthedocs.io/en/latest/jax-101/05-random-numbers.html "
   ]
  },
  {
   "cell_type": "code",
   "execution_count": null,
   "metadata": {},
   "outputs": [],
   "source": [
    "import jax\n",
    "import jax.numpy as jnp"
   ]
  },
  {
   "cell_type": "code",
   "execution_count": null,
   "metadata": {},
   "outputs": [],
   "source": [
    "import numpy as np\n",
    "np.random.seed(0)\n",
    "np.random.get_state()[1][:10]"
   ]
  },
  {
   "cell_type": "code",
   "execution_count": null,
   "metadata": {},
   "outputs": [],
   "source": [
    "# In numpy state is updated after each call\n",
    "np.random.seed(0)\n",
    "_ = np.random.uniform()\n",
    "print(f'{np.random.get_state()[1][:3]}')\n",
    "np.random.seed(0)\n",
    "_a = np.random.uniform()\n",
    "print(f'{np.random.get_state()[1][:3]}')\n",
    "_b = np.random.uniform()\n",
    "print(f'{np.random.get_state()[1][:3]}')\n"
   ]
  },
  {
   "cell_type": "code",
   "execution_count": null,
   "metadata": {},
   "outputs": [],
   "source": [
    "# JAX does not use a global state.\n",
    "# Instead, random functions explicitly consume the state\n",
    "# which is referred to as a key .\n",
    "\n",
    "key = jax.random.PRNGKey(0)\n",
    "print(key)"
   ]
  },
  {
   "cell_type": "code",
   "execution_count": null,
   "metadata": {},
   "outputs": [],
   "source": [
    "print(f'{jax.random.normal(key)}')\n",
    "print(f'{jax.random.normal(key)}')\n",
    "print(f'{jax.random.normal(key)}')"
   ]
  },
  {
   "cell_type": "code",
   "execution_count": null,
   "metadata": {},
   "outputs": [],
   "source": [
    "# Use chain of keys and subkeys to ensure duplicate behavior\n",
    "print('\\n---\\n')\n",
    "key = jax.random.PRNGKey(0)\n",
    "print(f'{jax.random.normal(key)}')\n",
    "key, subkey = jax.random.split(key)\n",
    "del key\n",
    "print(f'{jax.random.normal(subkey)}')\n",
    "# ...\n",
    "\n",
    "# OR\n",
    "print('\\n---\\n')\n",
    "key = jax.random.PRNGKey(0)\n",
    "print(f'{jax.random.normal(key)}')\n",
    "_, key = jax.random.split(key)\n",
    "print(f'{jax.random.normal(key)}')\n",
    "_, key = jax.random.split(key)\n",
    "print(f'{jax.random.normal(key)}')\n",
    "\n",
    "# OR\n",
    "print('\\n---\\n')\n",
    "key = jax.random.PRNGKey(0)\n",
    "print(f'{jax.random.normal(key)}')\n",
    "_, *keys = jax.random.split(key, num=3)\n",
    "print(f'{jax.random.normal(keys[0])}')\n",
    "print(f'{jax.random.normal(keys[1])}')"
   ]
  }
 ],
 "metadata": {
  "interpreter": {
   "hash": "31f2aee4e71d21fbe5cf8b01ff0e069b9275f58929596ceb00d14d90e3e16cd6"
  },
  "kernelspec": {
   "display_name": "Python 3.8.10 64-bit",
   "language": "python",
   "name": "python3"
  },
  "language_info": {
   "codemirror_mode": {
    "name": "ipython",
    "version": 3
   },
   "file_extension": ".py",
   "mimetype": "text/x-python",
   "name": "python",
   "nbconvert_exporter": "python",
   "pygments_lexer": "ipython3",
   "version": "3.8.10"
  },
  "orig_nbformat": 4
 },
 "nbformat": 4,
 "nbformat_minor": 2
}
