{
 "cells": [
  {
   "cell_type": "markdown",
   "metadata": {},
   "source": [
    "Automatic Vectorization in JAX\n",
    "https://jax.readthedocs.io/en/latest/jax-101/03-vectorization.html"
   ]
  },
  {
   "cell_type": "code",
   "execution_count": null,
   "metadata": {},
   "outputs": [],
   "source": [
    "import jax\n",
    "import jax.numpy as jnp"
   ]
  },
  {
   "cell_type": "code",
   "execution_count": null,
   "metadata": {},
   "outputs": [],
   "source": [
    "x = jnp.array([1, 0, 1, 2, 3, 2, 1, 0, 1]).astype(jnp.float32)\n",
    "w = jnp.array([0,1,0]).astype(jnp.float32)\n",
    "\n",
    "def convolve(image, kernel):\n",
    "    output = []\n",
    "    for i in range(1, len(image)-1):\n",
    "        output.append(jnp.dot(image[i-1:i+2], kernel))\n",
    "    return jnp.array(output)\n",
    "\n",
    "convolve(x, w)"
   ]
  },
  {
   "cell_type": "code",
   "execution_count": null,
   "metadata": {},
   "outputs": [],
   "source": [
    "x_batch = jnp.stack([x, x, x, x])\n",
    "w_batch = jnp.stack([w, w, w, w])\n",
    "w_batch"
   ]
  },
  {
   "cell_type": "code",
   "execution_count": null,
   "metadata": {},
   "outputs": [],
   "source": [
    "# Automatic vectorization\n",
    "batch_convolve = jax.vmap(convolve)\n",
    "# jax.make_jaxpr(batch_convolve)(x_batch, w_batch)\n",
    "batch_convolve(x_batch, w_batch)\n"
   ]
  },
  {
   "cell_type": "code",
   "execution_count": null,
   "metadata": {},
   "outputs": [],
   "source": [
    "jax.vmap(convolve, in_axes=1, out_axes=1)(jnp.transpose(x_batch), jnp.transpose(w_batch))"
   ]
  },
  {
   "cell_type": "code",
   "execution_count": null,
   "metadata": {},
   "outputs": [],
   "source": [
    "jax.vmap(convolve, in_axes=[0,None])(x_batch, w)"
   ]
  },
  {
   "cell_type": "code",
   "execution_count": null,
   "metadata": {},
   "outputs": [],
   "source": []
  }
 ],
 "metadata": {
  "interpreter": {
   "hash": "31f2aee4e71d21fbe5cf8b01ff0e069b9275f58929596ceb00d14d90e3e16cd6"
  },
  "kernelspec": {
   "display_name": "Python 3.8.10 64-bit",
   "language": "python",
   "name": "python3"
  },
  "language_info": {
   "codemirror_mode": {
    "name": "ipython",
    "version": 3
   },
   "file_extension": ".py",
   "mimetype": "text/x-python",
   "name": "python",
   "nbconvert_exporter": "python",
   "pygments_lexer": "ipython3",
   "version": "3.8.10"
  },
  "orig_nbformat": 4
 },
 "nbformat": 4,
 "nbformat_minor": 2
}
