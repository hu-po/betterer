{
 "cells": [
  {
   "cell_type": "markdown",
   "metadata": {},
   "source": [
    "Working with Pytrees\n",
    "\n",
    "https://jax.readthedocs.io/en/latest/jax-101/05.1-pytrees.html"
   ]
  },
  {
   "cell_type": "code",
   "execution_count": null,
   "metadata": {},
   "outputs": [],
   "source": [
    "import jax\n",
    "import numpy as np\n",
    "import jax.numpy as jnp"
   ]
  },
  {
   "cell_type": "code",
   "execution_count": null,
   "metadata": {},
   "outputs": [],
   "source": [
    "'''\n",
    "Pytrees are found in \n",
    "- Model parameters and descriptions\n",
    "- Datasets\n",
    "- RL states/observations\n",
    "'''\n",
    "\n",
    "example_pytree = [\n",
    "    jnp.array(-1),\n",
    "    [1, 2, 3],\n",
    "    {'foo' : [1, 2, 3],'bar':{'bar':'foo'}},\n",
    "]\n",
    "\n",
    "leaves = jax.tree_leaves(example_pytree)\n",
    "leaves"
   ]
  },
  {
   "cell_type": "code",
   "execution_count": null,
   "metadata": {},
   "outputs": [],
   "source": [
    "from typing import List\n",
    "\n",
    "def init_mlp(layers: int, key=None) -> List[jnp.DeviceArray]:\n",
    "    if key is None:\n",
    "        key = jax.random.PRNGKey(0)\n",
    "        _key = jax.random.split(jax.random.PRNGKey(0), num=2)\n",
    "    params = []\n",
    "    for n_in, n_out in zip(layers[:-1], layers[1:]):\n",
    "        print(f'n_in {n_in}, n_out {n_out}')\n",
    "        params.append({\n",
    "            'W': \\\n",
    "                jnp.sqrt(2/n_in)*\\\n",
    "                jax.random.normal(key=_key[0],shape=(n_in, n_out)),\n",
    "            'b': jnp.ones(shape=(n_out,)),\n",
    "        })\n",
    "    return params\n",
    "\n",
    "params = init_mlp([1, 128, 128, 1])\n",
    "params"
   ]
  },
  {
   "cell_type": "code",
   "execution_count": null,
   "metadata": {},
   "outputs": [],
   "source": [
    "# For everything in params, give me the shape\n",
    "jax.tree_map(lambda x: x.shape, params)"
   ]
  },
  {
   "cell_type": "code",
   "execution_count": null,
   "metadata": {},
   "outputs": [],
   "source": [
    "a = jnp.array([[1, 2, 3],[4, 5, 6]]).astype(jnp.float32)\n",
    "b = jnp.array([1, 2, 3]).astype(jnp.float32)\n",
    "a @ b == jnp.dot(a, b)"
   ]
  },
  {
   "cell_type": "code",
   "execution_count": null,
   "metadata": {},
   "outputs": [],
   "source": [
    "def forward(params: jax.tree_util.PyTreeDef, x: jnp.DeviceArray) -> jnp.DeviceArray:\n",
    "    *hidden, last = params\n",
    "    for layer in hidden:\n",
    "        x = jnp.dot(x, layer['W']) + layer['b']\n",
    "        x = jax.nn.relu(x)\n",
    "    # No activation function in last layer\n",
    "    return jnp.dot(x, last['W']) + last['b']\n",
    "\n",
    "def loss(params: jax.tree_util.PyTreeDef, x: jnp.DeviceArray, y:jnp.DeviceArray) -> jnp.DeviceArray:\n",
    "    return jnp.mean((forward(params, x) - y)**2)\n",
    "\n",
    "@jax.jit\n",
    "def update(params, x, y, lr=1e-4):\n",
    "    grads = jax.grad(loss)(params, x, y)\n",
    "    # grads and params will have same structure, thus you can map\n",
    "    return jax.tree_multimap(\n",
    "        lambda params, grads: params - lr*grads, params, grads\n",
    "    )    "
   ]
  },
  {
   "cell_type": "code",
   "execution_count": null,
   "metadata": {},
   "outputs": [],
   "source": [
    "import matplotlib.pyplot as plt\n",
    "\n",
    "# Fake quadratic dataset\n",
    "key = jax.random.PRNGKey(0)\n",
    "xs = jax.random.normal(key=key, shape=(256, 1))\n",
    "ys = xs ** 2\n",
    "\n",
    "# initialize an mlp\n",
    "params = init_mlp([1, 128, 128, 1])\n",
    "\n",
    "# 1000 epochs of a 256 batch of dataset of size 256\n",
    "for _ in range(1000):\n",
    "    params = update(params, xs, ys)\n",
    "\n",
    "plt.scatter(xs, ys, label='ground truth')\n",
    "plt.scatter(xs, forward(params, xs), label='model prediction')\n",
    "plt.legend()\n"
   ]
  },
  {
   "cell_type": "code",
   "execution_count": null,
   "metadata": {},
   "outputs": [],
   "source": [
    "from typing import Tuple, Iterable, Any\n",
    "\n",
    "class Person:\n",
    "    def __init__(self, name: str, age: int, left_handed: bool):\n",
    "        self.name = name\n",
    "        self.age = age\n",
    "        self.left_handed = left_handed\n",
    "\n",
    "# define flatten and un-flatten ops\n",
    "def flatten_Person(person: Person) -> Tuple[Iterable[Any], str]:\n",
    "    # choose what properties are considered leaves\n",
    "    # data, auxiliary_data\n",
    "    return [person.age, person.left_handed], person.name\n",
    "\n",
    "def unflatten_Person(aux_data: str, flat_contents: Iterable[Any]) -> Person:\n",
    "    return Person(aux_data, *flat_contents)\n",
    "\n",
    "jax.tree_util.register_pytree_node(Person, flatten_Person, unflatten_Person)\n",
    "\n",
    "pytree_with_people = [\n",
    "    'foo',\n",
    "    Person('bob', 20, False),\n",
    "    Person('joe', 30, True),\n",
    "]\n",
    "\n",
    "jax.tree_leaves(pytree_with_people)"
   ]
  },
  {
   "cell_type": "code",
   "execution_count": null,
   "metadata": {},
   "outputs": [],
   "source": []
  }
 ],
 "metadata": {
  "interpreter": {
   "hash": "31f2aee4e71d21fbe5cf8b01ff0e069b9275f58929596ceb00d14d90e3e16cd6"
  },
  "kernelspec": {
   "display_name": "Python 3.8.10 64-bit",
   "language": "python",
   "name": "python3"
  },
  "language_info": {
   "codemirror_mode": {
    "name": "ipython",
    "version": 3
   },
   "file_extension": ".py",
   "mimetype": "text/x-python",
   "name": "python",
   "nbconvert_exporter": "python",
   "pygments_lexer": "ipython3",
   "version": "3.8.10"
  },
  "orig_nbformat": 4
 },
 "nbformat": 4,
 "nbformat_minor": 2
}
