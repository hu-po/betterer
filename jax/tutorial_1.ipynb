{
 "cells": [
  {
   "cell_type": "markdown",
   "metadata": {},
   "source": [
    "JAX as Accelerated Numpy\n",
    "\n",
    "https://jax.readthedocs.io/en/latest/jax-101/01-jax-basics.html"
   ]
  },
  {
   "cell_type": "code",
   "execution_count": null,
   "metadata": {},
   "outputs": [],
   "source": [
    "import jax\n",
    "import jax.numpy as jnp"
   ]
  },
  {
   "cell_type": "code",
   "execution_count": null,
   "metadata": {},
   "outputs": [],
   "source": [
    "x = jnp.arange(10)\n",
    "x"
   ]
  },
  {
   "cell_type": "code",
   "execution_count": null,
   "metadata": {},
   "outputs": [],
   "source": [
    "big_vector = jnp.arange(int(1e7))\n",
    "\n",
    "%timeit jnp.dot(big_vector, big_vector)"
   ]
  },
  {
   "cell_type": "code",
   "execution_count": null,
   "metadata": {},
   "outputs": [],
   "source": [
    "def mse(y, t):\n",
    "    return jnp.mean((y-t)**2)\n",
    "\n",
    "key_seed = jax.random.PRNGKey(420)\n",
    "y = jax.random.randint(key_seed,(1,4),-2,2).astype(jnp.float32)\n",
    "t = y + 0.01*jax.random.normal(key_seed, (1,4))\n",
    "print(f'y = {y} \\nt = {t}')\n",
    "\n",
    "print(f'mse {mse(y, t)}')\n",
    "\n",
    "dmse_dy = jax.grad(mse, argnums=0)\n",
    "dmse_dt = jax.grad(mse, argnums=1)\n",
    "dmse_dydt = jax.grad(mse, argnums=(0, 1))\n",
    "\n",
    "print(f'dmse_dy {dmse_dy(y,t)}')\n",
    "print(f'dmse_dt {dmse_dt(y,t)}')\n",
    "print(f'dmse_dydt {dmse_dydt(y,t)}')\n"
   ]
  },
  {
   "cell_type": "code",
   "execution_count": null,
   "metadata": {},
   "outputs": [],
   "source": [
    "jax.value_and_grad(mse)(y, t)"
   ]
  },
  {
   "cell_type": "code",
   "execution_count": null,
   "metadata": {},
   "outputs": [],
   "source": [
    "def mse_with_aux_loss(y, t):\n",
    "    return mse(y, t), jnp.abs(t - y)\n",
    "\n",
    "# Auxiliary loss or any additional output of function\n",
    "jax.value_and_grad(mse_with_aux_loss, has_aux=True)(y, t)"
   ]
  },
  {
   "cell_type": "code",
   "execution_count": null,
   "metadata": {},
   "outputs": [],
   "source": [
    "def illegal_inplace(x):\n",
    "    x[0] = 1\n",
    "    return None\n",
    "\n",
    "def legal_inplace(x):\n",
    "    return x.at[0].set(1)\n",
    "\n",
    "x = jnp.asarray([0, 0, 0])\n",
    "\n",
    "# illegal_inplace(x)\n",
    "legal_inplace(x)"
   ]
  },
  {
   "cell_type": "code",
   "execution_count": null,
   "metadata": {},
   "outputs": [],
   "source": [
    "import numpy as np\n",
    "import matplotlib.pyplot as plt "
   ]
  },
  {
   "cell_type": "code",
   "execution_count": null,
   "metadata": {},
   "outputs": [],
   "source": [
    "mu=0.5\n",
    "std=0.1\n",
    "key_seed = jax.random.PRNGKey(69)\n",
    "x = mu + std*jax.random.normal(key_seed, (100,))\n",
    "noise = 0.01*jax.random.normal(key_seed, (100,))\n",
    "\n",
    "# Simple linear function, lets see if we can learn it\n",
    "y = x * 3 - noise\n",
    "plt.scatter(x, y)"
   ]
  },
  {
   "cell_type": "code",
   "execution_count": null,
   "metadata": {},
   "outputs": [],
   "source": [
    "def model(params, input):\n",
    "    \"\"\" y = wx + b \"\"\"\n",
    "    return params[0]*input + params[1]\n",
    "\n",
    "def loss(params, input, target):\n",
    "    \"\"\" Mean squared error. \"\"\"\n",
    "    pred = model(params, input)\n",
    "    return jnp.mean((pred - target)**2)\n",
    "\n",
    "def update(params, input, target, lr=0.1):\n",
    "    \"\"\" A single gradient step. \"\"\"\n",
    "    return params - lr * jax.grad(loss)(params, input, target)\n",
    "\n",
    "# initialize parameters of model\n",
    "params = jnp.asarray([0, 0]).astype(jnp.float32)\n",
    "\n",
    "plt.scatter(x, y)\n",
    "for i in range(1000):\n",
    "    if i % 50 == 0:\n",
    "        print(f'step {i} params {params}')\n",
    "        plt.plot(x, model(params, x))\n",
    "    params = update(params, x, y)\n"
   ]
  },
  {
   "cell_type": "code",
   "execution_count": null,
   "metadata": {},
   "outputs": [],
   "source": []
  }
 ],
 "metadata": {
  "interpreter": {
   "hash": "31f2aee4e71d21fbe5cf8b01ff0e069b9275f58929596ceb00d14d90e3e16cd6"
  },
  "kernelspec": {
   "display_name": "Python 3.8.10 64-bit",
   "language": "python",
   "name": "python3"
  },
  "language_info": {
   "codemirror_mode": {
    "name": "ipython",
    "version": 3
   },
   "file_extension": ".py",
   "mimetype": "text/x-python",
   "name": "python",
   "nbconvert_exporter": "python",
   "pygments_lexer": "ipython3",
   "version": "3.8.10"
  },
  "orig_nbformat": 4
 },
 "nbformat": 4,
 "nbformat_minor": 2
}
