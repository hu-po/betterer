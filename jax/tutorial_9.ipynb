{
 "cells": [
  {
   "cell_type": "markdown",
   "metadata": {},
   "source": [
    "Introduction to pjit\n",
    "https://jax.readthedocs.io/en/latest/jax-101/08-pjit.html"
   ]
  },
  {
   "cell_type": "code",
   "execution_count": null,
   "metadata": {},
   "outputs": [],
   "source": [
    "import jax\n",
    "import jax.numpy as jnp\n",
    "import numpy as np\n",
    "from jax.experimental import maps\n",
    "from jax.experimental import PartitionSpec\n",
    "from jax.experimental.pjit import pjit\n"
   ]
  },
  {
   "cell_type": "code",
   "execution_count": null,
   "metadata": {},
   "outputs": [],
   "source": [
    "# pjit is \"parallel jit\"\n",
    "# Pjit always assumes that the input is the local data chunk of a global array.\n",
    "print(f'jax.device_count() {jax.device_count()}')\n",
    "print(f'jax.local_device_count() {jax.local_device_count()}')\n",
    "for i, device in enumerate(jax.devices()):\n",
    "    print(f' --- found device: {i} ')\n",
    "    print(f'device_kind {device.device_kind}')\n",
    "    print(f'platform {device.platform}')\n",
    "    print(f'host_id {device.host_id}')"
   ]
  },
  {
   "cell_type": "code",
   "execution_count": null,
   "metadata": {},
   "outputs": [],
   "source": [
    "# Mesh is numpy array of jax devices\n",
    "# kinda like a \"batch dim\"\n",
    "\n",
    "mesh_shape = (4, 2)\n",
    "devices = np.asarray(jax.devices()).reshape(*mesh_shape)\n",
    "mesh = maps.Mesh(devices, ('x', 'y'))"
   ]
  },
  {
   "cell_type": "code",
   "execution_count": null,
   "metadata": {},
   "outputs": [],
   "source": [
    " "
   ]
  }
 ],
 "metadata": {
  "interpreter": {
   "hash": "31f2aee4e71d21fbe5cf8b01ff0e069b9275f58929596ceb00d14d90e3e16cd6"
  },
  "kernelspec": {
   "display_name": "Python 3.8.10 64-bit",
   "language": "python",
   "name": "python3"
  },
  "language_info": {
   "codemirror_mode": {
    "name": "ipython",
    "version": 3
   },
   "file_extension": ".py",
   "mimetype": "text/x-python",
   "name": "python",
   "nbconvert_exporter": "python",
   "pygments_lexer": "ipython3",
   "version": "3.8.10"
  },
  "orig_nbformat": 4
 },
 "nbformat": 4,
 "nbformat_minor": 2
}
