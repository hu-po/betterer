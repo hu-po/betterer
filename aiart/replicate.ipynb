{
 "cells": [
  {
   "cell_type": "code",
   "execution_count": null,
   "metadata": {},
   "outputs": [],
   "source": [
    "import replicate\n",
    "import requests\n",
    "import shutil\n",
    "import uuid\n",
    "import random\n",
    "from IPython.core.display import Image, display\n",
    "\n",
    "OUTPUT_DIR = \"/tmp/replicate/\"\n",
    "PATH_TO_PIC_OF_YOUR_CAT = \"/home/tren/Pictures/zumolabs/cat_package_edit.png\"\n"
   ]
  },
  {
   "cell_type": "code",
   "execution_count": null,
   "metadata": {},
   "outputs": [],
   "source": [
    "# Predict the species of Buboo\n",
    "model = replicate.models.get(\"replicate/resnet\")\n",
    "model.predict(image=open(PATH_TO_PIC_OF_YOUR_CAT, \"rb\"))"
   ]
  },
  {
   "cell_type": "code",
   "execution_count": null,
   "metadata": {},
   "outputs": [],
   "source": [
    "# Generative model\n",
    "gen_model = replicate.models.get(\"prompthero/openjourney\")\n",
    "gen_version = gen_model.versions.get(\n",
    "    \"9936c2001faa2194a261c01381f90e65261879985476014a0a37a334593a05eb\")\n",
    "\n",
    "# Upscaling model\n",
    "upscale_model = replicate.models.get(\"jingyunliang/swinir\")\n",
    "upscale_version = upscale_model.versions.get(\n",
    "    \"660d922d33153019e8c263a3bba265de882e7f4f70396546b6c9c8f9d47a021a\")\n",
    "\n",
    "actual_prompt = \"engineer inventor tinkering with robot in workshop, \"\n",
    "\n",
    "styles = [\n",
    "    \"mdjrny-v4 style, \",\n",
    "    \"by studio ghibli, \",\n",
    "    \"makoto shinkai, \",\n",
    "    \"by artgerm, \",\n",
    "    \"by wlop, \",\n",
    "    \"by greg rutkowski, \",\n",
    "    \"by jason chan, \",\n",
    "    \"volumetric lighting, \",\n",
    "    \"octane render, \",\n",
    "    \"smooth, \",\n",
    "    \"sharp focus, \",\n",
    "    \"intricate, \",\n",
    "    \"Chromatic Aberration, \",\n",
    "    \"insanely detailed and intricate, \"\n",
    "    \"hypermaximalist, \",\n",
    "    \"elegant, \",\n",
    "    \"ornate, \",\n",
    "    \"hyper realistic, \",\n",
    "    \"super detailed, \",\n",
    "    \"Unreal Engine, \",\n",
    "    \"4k resolution, \",\n",
    "    \"trending on artstation, \",\n",
    "]\n",
    "\n",
    "num_inference_steps = [50] # [50, 50, 50, 80, 70]\n",
    "guidance_scale = [7] # [14, 7, 8, 17, 7.5]\n",
    "height = 512\n",
    "width = 512\n",
    "\n",
    "for num_steps, scale in zip(num_inference_steps, guidance_scale):\n",
    "    \n",
    "    print(\"Generating image with {} inference steps and guidance scale {}\".format(num_steps, scale))\n",
    "\n",
    "    prompt = actual_prompt + ''.join(random.sample(styles, 12))\n",
    "    print(prompt)\n",
    "    print(\"\\n\\n\")\n",
    "\n",
    "    output = gen_version.predict(\n",
    "        prompt=prompt,\n",
    "        num_inference_steps=num_steps,\n",
    "        guidance_scale=scale,\n",
    "        height=height,\n",
    "        width=width,\n",
    "        num_outputs=4,\n",
    "    )\n",
    "    \n",
    "    # For each output image in the model prediction\n",
    "    for i, img_link in enumerate(output):\n",
    "        \n",
    "        # Display the image\n",
    "        # image = Image(url=img_link, width=width, unconfined=True)\n",
    "        # display(image)\n",
    "\n",
    "        # Download the image \n",
    "        response = requests.get(img_link, stream=True)\n",
    "        filename = str(uuid.uuid4()) + f\"num_steps_{num_steps}_scale_{scale}_{i}\"\n",
    "        filepath = OUTPUT_DIR +  filename + \".png\"\n",
    "        with open(filepath, 'wb') as out_file:\n",
    "            shutil.copyfileobj(response.raw, out_file)\n",
    "\n",
    "        # Super resolution\n",
    "        output = upscale_version.predict(\n",
    "            image=img_link,\n",
    "            task_type=\"Real-World Image Super-Resolution-Large\",\n",
    "            noise=15,\n",
    "        )\n",
    "        response = requests.get(output, stream=True)\n",
    "        filepath = OUTPUT_DIR + filename + \"_upscaled.png\"\n",
    "        with open(filepath, 'wb') as out_file:\n",
    "            shutil.copyfileobj(response.raw, out_file)"
   ]
  },
  {
   "cell_type": "code",
   "execution_count": null,
   "metadata": {},
   "outputs": [],
   "source": [
    "# Style transfer into an anime style\n",
    "model = replicate.models.get(\"ptran1203/pytorch-animegan\")\n",
    "version = model.versions.get(\"7d44f1878a07e7b5a32af9727c1f6120cac04203d48f3f7b0432e28fa8e5c6b6\")\n",
    "\n",
    "for image_path in [\n",
    "    \"alex\",\n",
    "    \"hugo\",\n",
    "    \"brandon\",\n",
    "]:\n",
    "    output = version.predict(image=f\"/home/tren/Pictures/bivy/{image_path}.jpg\")\n",
    "    response = requests.get(output, stream=True)\n",
    "    filepath = OUTPUT_DIR + filename + \"_anime.png\"\n",
    "    with open(filepath, 'wb') as out_file:\n",
    "        shutil.copyfileobj(response.raw, out_file)"
   ]
  },
  {
   "cell_type": "code",
   "execution_count": null,
   "metadata": {},
   "outputs": [],
   "source": []
  }
 ],
 "metadata": {
  "kernelspec": {
   "display_name": "Python 3 (ipykernel)",
   "language": "python",
   "name": "python3"
  },
  "language_info": {
   "codemirror_mode": {
    "name": "ipython",
    "version": 3
   },
   "file_extension": ".py",
   "mimetype": "text/x-python",
   "name": "python",
   "nbconvert_exporter": "python",
   "pygments_lexer": "ipython3",
   "version": "3.8.10"
  },
  "orig_nbformat": 4,
  "vscode": {
   "interpreter": {
    "hash": "a86e40670bbe08a5671a019d39d5350731396d8f8945d13abcdc76aed312817e"
   }
  }
 },
 "nbformat": 4,
 "nbformat_minor": 2
}
