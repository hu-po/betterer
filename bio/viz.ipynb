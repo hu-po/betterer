{
 "cells": [
  {
   "cell_type": "code",
   "execution_count": 6,
   "metadata": {},
   "outputs": [],
   "source": [
    "from Bio.PDB import MMCIFParser, PDBParser\n",
    "import nglview as nv\n",
    "import ipywidgets"
   ]
  },
  {
   "cell_type": "code",
   "execution_count": null,
   "metadata": {},
   "outputs": [],
   "source": [
    "cif_parser = MMCIFParser()\n",
    "structure = cif_parser.get_structure(\"1JHF\", \"1jhf.cif\")\n",
    "view = nv.show_biopython(structure)"
   ]
  },
  {
   "cell_type": "code",
   "execution_count": null,
   "metadata": {},
   "outputs": [],
   "source": [
    "pdb_parser = PDBParser(PERMISSIVE=1)\n",
    "structure = pdb_parser.get_structure(\"1JHF\", \"1jhf.pdb\")\n",
    "view = nv.show_biopython(structure)"
   ]
  },
  {
   "cell_type": "code",
   "execution_count": 9,
   "metadata": {},
   "outputs": [
    {
     "name": "stdout",
     "output_type": "stream",
     "text": [
      "KALTARQQEVFDLIRDHISQTGMPPTRAEIAQRLGFRSPNAAEEHLKALARKGVIEIVSGASRGIRLLQEEEEGLPLVGRVAADEPLLAQQHIEGHYQVDPSLFKPNADFLLRVSGMSMKDIGIMDGDLLAVHKTQDVRNGQVVVARIDDEVTVKRLKKQGNKVELLPENSEFKPIVVDLRQQSFTIEGLAVGVIRN\n",
      "GLPLVXXXXXXXXXXXXXXIEGHYQVDPSLFKPNADFLLRVSGMSMKDIGIMDGDLLAVHKTQDVRNGQVVVARIDDEVTVKRLKKQGNKVELLPENSEFKPIVVDLRQQSFTIEGLAVGVIRNG\n",
      "PPGPPGPPGPPGPPGPPGPPGPPGPPGPP\n",
      "PPGPPGPPGPPGPPGPPGPPGPPGPPGPP\n",
      "PPGPPGPPGPPGPPGPPGPPGPPGPPGPP\n",
      "PPGPPGPPGPPGPPGPPGPPGPPGPPGPP\n",
      "PPGPPGPPGPPGPPGPPGPPGPPGPPGPP\n",
      "PPGPPGPPGPPGPPGPPGPPGPPGPPGPP\n"
     ]
    },
    {
     "name": "stderr",
     "output_type": "stream",
     "text": [
      "/home/tren/.pyenv/versions/esm-protein/lib/python3.8/site-packages/Bio/PDB/StructureBuilder.py:89: PDBConstructionWarning: WARNING: Chain A is discontinuous at line 2874.\n",
      "  warnings.warn(\n",
      "/home/tren/.pyenv/versions/esm-protein/lib/python3.8/site-packages/Bio/PDB/StructureBuilder.py:89: PDBConstructionWarning: WARNING: Chain B is discontinuous at line 2992.\n",
      "  warnings.warn(\n",
      "/home/tren/.pyenv/versions/esm-protein/lib/python3.8/site-packages/Bio/PDB/StructureBuilder.py:89: PDBConstructionWarning: WARNING: Chain A is discontinuous at line 1056.\n",
      "  warnings.warn(\n",
      "/home/tren/.pyenv/versions/esm-protein/lib/python3.8/site-packages/Bio/PDB/StructureBuilder.py:89: PDBConstructionWarning: WARNING: Chain B is discontinuous at line 1122.\n",
      "  warnings.warn(\n",
      "/home/tren/.pyenv/versions/esm-protein/lib/python3.8/site-packages/Bio/PDB/StructureBuilder.py:89: PDBConstructionWarning: WARNING: Chain C is discontinuous at line 1178.\n",
      "  warnings.warn(\n",
      "/home/tren/.pyenv/versions/esm-protein/lib/python3.8/site-packages/Bio/PDB/StructureBuilder.py:89: PDBConstructionWarning: WARNING: Chain D is discontinuous at line 1226.\n",
      "  warnings.warn(\n",
      "/home/tren/.pyenv/versions/esm-protein/lib/python3.8/site-packages/Bio/PDB/StructureBuilder.py:89: PDBConstructionWarning: WARNING: Chain E is discontinuous at line 1298.\n",
      "  warnings.warn(\n",
      "/home/tren/.pyenv/versions/esm-protein/lib/python3.8/site-packages/Bio/PDB/StructureBuilder.py:89: PDBConstructionWarning: WARNING: Chain F is discontinuous at line 1346.\n",
      "  warnings.warn(\n"
     ]
    }
   ],
   "source": [
    "from Bio import SeqIO\n",
    "from Bio.PDB import MMCIFParser\n",
    "\n",
    "# # Try to load the one-letter residue sequence from the MMCIF file\n",
    "# cif_parser = MMCIFParser()\n",
    "# structure = cif_parser.get_structure(\"1K6F\", \"1k6f.cif\")\n",
    "# structure_seq = \"\".join([residue.get_resname() for residue in structure.get_residues()])\n",
    "# print(structure_seq)\n",
    "\n",
    "for record in SeqIO.parse(\"1jhf.pdb\", \"pdb-atom\"):\n",
    "    print(record.seq)\n",
    "\n",
    "for record in SeqIO.parse(\"1k6f.cif\", \"cif-atom\"):\n",
    "    print(record.seq)\n"
   ]
  },
  {
   "cell_type": "code",
   "execution_count": null,
   "metadata": {},
   "outputs": [],
   "source": []
  }
 ],
 "metadata": {
  "kernelspec": {
   "display_name": "Python 3 (ipykernel)",
   "language": "python",
   "name": "python3"
  },
  "language_info": {
   "codemirror_mode": {
    "name": "ipython",
    "version": 3
   },
   "file_extension": ".py",
   "mimetype": "text/x-python",
   "name": "python",
   "nbconvert_exporter": "python",
   "pygments_lexer": "ipython3",
   "version": "3.8.10"
  },
  "vscode": {
   "interpreter": {
    "hash": "82e226f6589d1ab3e1f42304a181bda372a94ed1a47ab6deafb50839d437363a"
   }
  }
 },
 "nbformat": 4,
 "nbformat_minor": 2
}
